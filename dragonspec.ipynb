{
 "cells": [
  {
   "cell_type": "markdown",
   "metadata": {},
   "source": [
    "# Setting Up The Data"
   ]
  },
  {
   "cell_type": "code",
   "execution_count": 1,
   "metadata": {},
   "outputs": [],
   "source": [
    "import numpy as np\n",
    "import pandas as pd\n",
    "import statistics\n",
    "import matplotlib.pyplot as plt"
   ]
  },
  {
   "cell_type": "code",
   "execution_count": 2,
   "metadata": {
    "scrolled": true
   },
   "outputs": [],
   "source": [
    "final = pd.read_csv(\"drake_data.csv\")\n",
    "final['drake_sequence'].replace('', np.nan, inplace=True)\n",
    "final.dropna(subset = ['drake_sequence'], inplace=True)"
   ]
  },
  {
   "cell_type": "code",
   "execution_count": 3,
   "metadata": {
    "scrolled": true
   },
   "outputs": [],
   "source": [
    "final.replace(np.nan, \"\", inplace=True)"
   ]
  },
  {
   "cell_type": "code",
   "execution_count": 4,
   "metadata": {},
   "outputs": [],
   "source": [
    "final['total_drake'] = final['winning_team_elemental_drakes'].apply(lambda x : len(x)) + final['losing_team_elemental_drakes'].apply(lambda x : len(x))\n",
    "final['win_fire'] = final['winning_team_elemental_drakes'].apply(lambda x : x.count(\"F\"))\n",
    "final['win_water'] = final['winning_team_elemental_drakes'].apply(lambda x : x.count(\"W\"))\n",
    "final['win_air'] = final['winning_team_elemental_drakes'].apply(lambda x : x.count(\"A\"))\n",
    "final['win_mountain'] = final['winning_team_elemental_drakes'].apply(lambda x : x.count(\"M\"))\n",
    "final['lose_fire'] = final['losing_team_elemental_drakes'].apply(lambda x : x.count(\"F\"))\n",
    "final['lose_water'] = final['losing_team_elemental_drakes'].apply(lambda x : x.count(\"W\"))\n",
    "final['lose_air'] = final['losing_team_elemental_drakes'].apply(lambda x : x.count(\"A\"))\n",
    "final['lose_mountain'] = final['losing_team_elemental_drakes'].apply(lambda x : x.count(\"M\"))\n",
    "final['first_drake'] = final['drake_sequence'].apply(lambda x : x[0])\n",
    "final['first_drake_min'] = final['first_drake_time'].apply(lambda x: int(x/60000))\n",
    "final['last_drake_time'] = final['last_drake_time'].apply(lambda x : int(x/1000))\n"
   ]
  },
  {
   "cell_type": "markdown",
   "metadata": {},
   "source": [
    "# First Dragon Impact"
   ]
  },
  {
   "cell_type": "markdown",
   "metadata": {},
   "source": [
    "## First Dragon Time Stats"
   ]
  },
  {
   "cell_type": "code",
   "execution_count": 5,
   "metadata": {},
   "outputs": [],
   "source": [
    "firstwin = final.groupby(['first_drake_min', 'winning_team_first_dragon']).size().tolist()"
   ]
  },
  {
   "cell_type": "code",
   "execution_count": 6,
   "metadata": {
    "scrolled": true
   },
   "outputs": [
    {
     "data": {
      "text/plain": [
       "count    756412.000000\n",
       "mean          9.173667\n",
       "std           2.590916\n",
       "min           5.160183\n",
       "25%           7.083000\n",
       "50%           8.686325\n",
       "75%          10.805404\n",
       "max          27.905817\n",
       "Name: first_drake_time, dtype: float64"
      ]
     },
     "execution_count": 6,
     "metadata": {},
     "output_type": "execute_result"
    }
   ],
   "source": [
    "xx = final['first_drake_time']\n",
    "xx1 = xx.tolist()\n",
    "xx1 = xx.apply(lambda x : x/60000)\n",
    "xx1.describe()"
   ]
  },
  {
   "cell_type": "code",
   "execution_count": 7,
   "metadata": {
    "scrolled": true
   },
   "outputs": [
    {
     "data": {
      "text/plain": [
       "(array([4.2667e+04, 9.1910e+04, 9.2750e+04, 9.2845e+04, 8.5786e+04,\n",
       "        7.0632e+04, 6.3709e+04, 5.7874e+04, 4.8133e+04, 3.4574e+04,\n",
       "        2.4722e+04, 1.7366e+04, 1.2356e+04, 7.8630e+03, 5.1390e+03,\n",
       "        3.4290e+03, 2.0610e+03, 1.2130e+03, 6.8300e+02, 3.3700e+02,\n",
       "        1.7700e+02, 7.8000e+01, 5.3000e+01, 2.3000e+01, 1.3000e+01,\n",
       "        1.1000e+01, 2.0000e+00, 2.0000e+00, 3.0000e+00, 1.0000e+00]),\n",
       " array([ 5.16018333,  5.91837111,  6.67655889,  7.43474667,  8.19293444,\n",
       "         8.95112222,  9.70931   , 10.46749778, 11.22568556, 11.98387333,\n",
       "        12.74206111, 13.50024889, 14.25843667, 15.01662444, 15.77481222,\n",
       "        16.533     , 17.29118778, 18.04937556, 18.80756333, 19.56575111,\n",
       "        20.32393889, 21.08212667, 21.84031444, 22.59850222, 23.35669   ,\n",
       "        24.11487778, 24.87306556, 25.63125333, 26.38944111, 27.14762889,\n",
       "        27.90581667]),\n",
       " <a list of 30 Patch objects>)"
      ]
     },
     "execution_count": 7,
     "metadata": {},
     "output_type": "execute_result"
    },
    {
     "data": {
      "image/png": "[encoded data removed]",
      "text/plain": [
       "<Figure size 432x288 with 1 Axes>"
      ]
     },
     "metadata": {
      "needs_background": "light"
     },
     "output_type": "display_data"
    }
   ],
   "source": [
    "plt.hist(xx1, bins = 30)"
   ]
  },
  {
   "cell_type": "code",
   "execution_count": 8,
   "metadata": {},
   "outputs": [],
   "source": [
    "finalir = final[(final['tier'] == 'IRON')] \n",
    "finalbr = final[(final['tier'] == 'BRONZE')] \n",
    "finalsi = final[(final['tier'] == 'SILVER')] \n",
    "finalgo = final[(final['tier'] == 'GOLD')] \n",
    "finalpl = final[(final['tier'] == 'PLATINUM')] \n",
    "finaldi = final[(final['tier'] == 'DIAMOND')] \n",
    "finalhi = final[(final['tier'] == 'MASTER') | (final['tier'] == 'GRANDMASTER')  | (final['tier'] == 'CHALLENGER')] "
   ]
  },
  {
   "cell_type": "code",
   "execution_count": 9,
   "metadata": {},
   "outputs": [
    {
     "data": {
      "text/plain": [
       "[9.264801555539863,\n",
       " 9.319335928440355,\n",
       " 9.480149446658876,\n",
       " 8.962292881173646,\n",
       " 8.301846000115885,\n",
       " 7.678327673160305,\n",
       " 7.3406971161913965]"
      ]
     },
     "execution_count": 9,
     "metadata": {},
     "output_type": "execute_result"
    }
   ],
   "source": [
    "a = [] \n",
    "a.append(finalir['first_drake_time'].describe().mean()/60000)\n",
    "a.append(finalbr['first_drake_time'].describe().mean()/60000)\n",
    "a.append(finalsi['first_drake_time'].describe().mean()/60000)\n",
    "a.append(finalgo['first_drake_time'].describe().mean()/60000)\n",
    "a.append(finalpl['first_drake_time'].describe().mean()/60000)\n",
    "a.append(finaldi['first_drake_time'].describe().mean()/60000)\n",
    "a.append(finalhi['first_drake_time'].describe().mean()/60000)\n",
    "tierfirstdrake = a\n",
    "tierfirstdrake"
   ]
  },
  {
   "cell_type": "markdown",
   "metadata": {},
   "source": [
    "## First Dragon Win Rate Stats"
   ]
  },
  {
   "cell_type": "code",
   "execution_count": 10,
   "metadata": {
    "scrolled": true
   },
   "outputs": [
    {
     "data": {
      "text/plain": [
       "winning_team_first_dragon\n",
       "False    265649\n",
       "True     490763\n",
       "dtype: int64"
      ]
     },
     "execution_count": 10,
     "metadata": {},
     "output_type": "execute_result"
    }
   ],
   "source": [
    "final.groupby('winning_team_first_dragon').size()"
   ]
  },
  {
   "cell_type": "code",
   "execution_count": 11,
   "metadata": {
    "scrolled": true
   },
   "outputs": [
    {
     "data": {
      "text/html": [
       "<div>\n",
       "<style scoped>\n",
       "    .dataframe tbody tr th:only-of-type {\n",
       "        vertical-align: middle;\n",
       "    }\n",
       "\n",
       "    .dataframe tbody tr th {\n",
       "        vertical-align: top;\n",
       "    }\n",
       "\n",
       "    .dataframe thead th {\n",
       "        text-align: right;\n",
       "    }\n",
       "</style>\n",
       "<table border=\"1\" class=\"dataframe\">\n",
       "  <thead>\n",
       "    <tr style=\"text-align: right;\">\n",
       "      <th></th>\n",
       "      <th>Unnamed: 0</th>\n",
       "      <th>time</th>\n",
       "      <th>drake_sequence</th>\n",
       "      <th>winning_team_elder_drakes</th>\n",
       "      <th>losing_team_elder_drakes</th>\n",
       "      <th>winning_team_elemental_drakes</th>\n",
       "      <th>losing_team_elemental_drakes</th>\n",
       "      <th>soul</th>\n",
       "      <th>winning_team_has_soul</th>\n",
       "      <th>winning_team_first_dragon</th>\n",
       "      <th>...</th>\n",
       "      <th>total_drake</th>\n",
       "      <th>win_water</th>\n",
       "      <th>win_air</th>\n",
       "      <th>win_mountain</th>\n",
       "      <th>lose_fire</th>\n",
       "      <th>lose_water</th>\n",
       "      <th>lose_air</th>\n",
       "      <th>lose_mountain</th>\n",
       "      <th>first_drake</th>\n",
       "      <th>first_drake_min</th>\n",
       "    </tr>\n",
       "    <tr>\n",
       "      <th>win_fire</th>\n",
       "      <th></th>\n",
       "      <th></th>\n",
       "      <th></th>\n",
       "      <th></th>\n",
       "      <th></th>\n",
       "      <th></th>\n",
       "      <th></th>\n",
       "      <th></th>\n",
       "      <th></th>\n",
       "      <th></th>\n",
       "      <th></th>\n",
       "      <th></th>\n",
       "      <th></th>\n",
       "      <th></th>\n",
       "      <th></th>\n",
       "      <th></th>\n",
       "      <th></th>\n",
       "      <th></th>\n",
       "      <th></th>\n",
       "      <th></th>\n",
       "      <th></th>\n",
       "    </tr>\n",
       "  </thead>\n",
       "  <tbody>\n",
       "    <tr>\n",
       "      <td>0</td>\n",
       "      <td>65234</td>\n",
       "      <td>65234</td>\n",
       "      <td>65234</td>\n",
       "      <td>65234</td>\n",
       "      <td>65234</td>\n",
       "      <td>65234</td>\n",
       "      <td>65234</td>\n",
       "      <td>65234</td>\n",
       "      <td>65234</td>\n",
       "      <td>65234</td>\n",
       "      <td>...</td>\n",
       "      <td>65234</td>\n",
       "      <td>65234</td>\n",
       "      <td>65234</td>\n",
       "      <td>65234</td>\n",
       "      <td>65234</td>\n",
       "      <td>65234</td>\n",
       "      <td>65234</td>\n",
       "      <td>65234</td>\n",
       "      <td>65234</td>\n",
       "      <td>65234</td>\n",
       "    </tr>\n",
       "    <tr>\n",
       "      <td>1</td>\n",
       "      <td>124200</td>\n",
       "      <td>124200</td>\n",
       "      <td>124200</td>\n",
       "      <td>124200</td>\n",
       "      <td>124200</td>\n",
       "      <td>124200</td>\n",
       "      <td>124200</td>\n",
       "      <td>124200</td>\n",
       "      <td>124200</td>\n",
       "      <td>124200</td>\n",
       "      <td>...</td>\n",
       "      <td>124200</td>\n",
       "      <td>124200</td>\n",
       "      <td>124200</td>\n",
       "      <td>124200</td>\n",
       "      <td>124200</td>\n",
       "      <td>124200</td>\n",
       "      <td>124200</td>\n",
       "      <td>124200</td>\n",
       "      <td>124200</td>\n",
       "      <td>124200</td>\n",
       "    </tr>\n",
       "  </tbody>\n",
       "</table>\n",
       "<p>2 rows × 24 columns</p>\n",
       "</div>"
      ],
      "text/plain": [
       "          Unnamed: 0    time  drake_sequence  winning_team_elder_drakes  \\\n",
       "win_fire                                                                  \n",
       "0              65234   65234           65234                      65234   \n",
       "1             124200  124200          124200                     124200   \n",
       "\n",
       "          losing_team_elder_drakes  winning_team_elemental_drakes  \\\n",
       "win_fire                                                            \n",
       "0                            65234                          65234   \n",
       "1                           124200                         124200   \n",
       "\n",
       "          losing_team_elemental_drakes    soul  winning_team_has_soul  \\\n",
       "win_fire                                                                \n",
       "0                                65234   65234                  65234   \n",
       "1                               124200  124200                 124200   \n",
       "\n",
       "          winning_team_first_dragon  ...  total_drake  win_water  win_air  \\\n",
       "win_fire                             ...                                    \n",
       "0                             65234  ...        65234      65234    65234   \n",
       "1                            124200  ...       124200     124200   124200   \n",
       "\n",
       "          win_mountain  lose_fire  lose_water  lose_air  lose_mountain  \\\n",
       "win_fire                                                                 \n",
       "0                65234      65234       65234     65234          65234   \n",
       "1               124200     124200      124200    124200         124200   \n",
       "\n",
       "          first_drake  first_drake_min  \n",
       "win_fire                                \n",
       "0               65234            65234  \n",
       "1              124200           124200  \n",
       "\n",
       "[2 rows x 24 columns]"
      ]
     },
     "execution_count": 11,
     "metadata": {},
     "output_type": "execute_result"
    }
   ],
   "source": [
    "final1f = final[(final['first_drake'] == 'F')]\n",
    "final1f.groupby('win_fire').count()"
   ]
  },
  {
   "cell_type": "code",
   "execution_count": 12,
   "metadata": {},
   "outputs": [
    {
     "data": {
      "text/html": [
       "<div>\n",
       "<style scoped>\n",
       "    .dataframe tbody tr th:only-of-type {\n",
       "        vertical-align: middle;\n",
       "    }\n",
       "\n",
       "    .dataframe tbody tr th {\n",
       "        vertical-align: top;\n",
       "    }\n",
       "\n",
       "    .dataframe thead th {\n",
       "        text-align: right;\n",
       "    }\n",
       "</style>\n",
       "<table border=\"1\" class=\"dataframe\">\n",
       "  <thead>\n",
       "    <tr style=\"text-align: right;\">\n",
       "      <th></th>\n",
       "      <th>Unnamed: 0</th>\n",
       "      <th>time</th>\n",
       "      <th>drake_sequence</th>\n",
       "      <th>winning_team_elder_drakes</th>\n",
       "      <th>losing_team_elder_drakes</th>\n",
       "      <th>winning_team_elemental_drakes</th>\n",
       "      <th>losing_team_elemental_drakes</th>\n",
       "      <th>soul</th>\n",
       "      <th>winning_team_has_soul</th>\n",
       "      <th>winning_team_first_dragon</th>\n",
       "      <th>...</th>\n",
       "      <th>total_drake</th>\n",
       "      <th>win_fire</th>\n",
       "      <th>win_air</th>\n",
       "      <th>win_mountain</th>\n",
       "      <th>lose_fire</th>\n",
       "      <th>lose_water</th>\n",
       "      <th>lose_air</th>\n",
       "      <th>lose_mountain</th>\n",
       "      <th>first_drake</th>\n",
       "      <th>first_drake_min</th>\n",
       "    </tr>\n",
       "    <tr>\n",
       "      <th>win_water</th>\n",
       "      <th></th>\n",
       "      <th></th>\n",
       "      <th></th>\n",
       "      <th></th>\n",
       "      <th></th>\n",
       "      <th></th>\n",
       "      <th></th>\n",
       "      <th></th>\n",
       "      <th></th>\n",
       "      <th></th>\n",
       "      <th></th>\n",
       "      <th></th>\n",
       "      <th></th>\n",
       "      <th></th>\n",
       "      <th></th>\n",
       "      <th></th>\n",
       "      <th></th>\n",
       "      <th></th>\n",
       "      <th></th>\n",
       "      <th></th>\n",
       "      <th></th>\n",
       "    </tr>\n",
       "  </thead>\n",
       "  <tbody>\n",
       "    <tr>\n",
       "      <td>0</td>\n",
       "      <td>62717</td>\n",
       "      <td>62717</td>\n",
       "      <td>62717</td>\n",
       "      <td>62717</td>\n",
       "      <td>62717</td>\n",
       "      <td>62717</td>\n",
       "      <td>62717</td>\n",
       "      <td>62717</td>\n",
       "      <td>62717</td>\n",
       "      <td>62717</td>\n",
       "      <td>...</td>\n",
       "      <td>62717</td>\n",
       "      <td>62717</td>\n",
       "      <td>62717</td>\n",
       "      <td>62717</td>\n",
       "      <td>62717</td>\n",
       "      <td>62717</td>\n",
       "      <td>62717</td>\n",
       "      <td>62717</td>\n",
       "      <td>62717</td>\n",
       "      <td>62717</td>\n",
       "    </tr>\n",
       "    <tr>\n",
       "      <td>1</td>\n",
       "      <td>126935</td>\n",
       "      <td>126935</td>\n",
       "      <td>126935</td>\n",
       "      <td>126935</td>\n",
       "      <td>126935</td>\n",
       "      <td>126935</td>\n",
       "      <td>126935</td>\n",
       "      <td>126935</td>\n",
       "      <td>126935</td>\n",
       "      <td>126935</td>\n",
       "      <td>...</td>\n",
       "      <td>126935</td>\n",
       "      <td>126935</td>\n",
       "      <td>126935</td>\n",
       "      <td>126935</td>\n",
       "      <td>126935</td>\n",
       "      <td>126935</td>\n",
       "      <td>126935</td>\n",
       "      <td>126935</td>\n",
       "      <td>126935</td>\n",
       "      <td>126935</td>\n",
       "    </tr>\n",
       "  </tbody>\n",
       "</table>\n",
       "<p>2 rows × 24 columns</p>\n",
       "</div>"
      ],
      "text/plain": [
       "           Unnamed: 0    time  drake_sequence  winning_team_elder_drakes  \\\n",
       "win_water                                                                  \n",
       "0               62717   62717           62717                      62717   \n",
       "1              126935  126935          126935                     126935   \n",
       "\n",
       "           losing_team_elder_drakes  winning_team_elemental_drakes  \\\n",
       "win_water                                                            \n",
       "0                             62717                          62717   \n",
       "1                            126935                         126935   \n",
       "\n",
       "           losing_team_elemental_drakes    soul  winning_team_has_soul  \\\n",
       "win_water                                                                \n",
       "0                                 62717   62717                  62717   \n",
       "1                                126935  126935                 126935   \n",
       "\n",
       "           winning_team_first_dragon  ...  total_drake  win_fire  win_air  \\\n",
       "win_water                             ...                                   \n",
       "0                              62717  ...        62717     62717    62717   \n",
       "1                             126935  ...       126935    126935   126935   \n",
       "\n",
       "           win_mountain  lose_fire  lose_water  lose_air  lose_mountain  \\\n",
       "win_water                                                                 \n",
       "0                 62717      62717       62717     62717          62717   \n",
       "1                126935     126935      126935    126935         126935   \n",
       "\n",
       "           first_drake  first_drake_min  \n",
       "win_water                                \n",
       "0                62717            62717  \n",
       "1               126935           126935  \n",
       "\n",
       "[2 rows x 24 columns]"
      ]
     },
     "execution_count": 12,
     "metadata": {},
     "output_type": "execute_result"
    }
   ],
   "source": [
    "final1w = final[(final['first_drake'] == 'W')]\n",
    "final1w.groupby('win_water').count()"
   ]
  },
  {
   "cell_type": "code",
   "execution_count": 13,
   "metadata": {},
   "outputs": [
    {
     "data": {
      "text/html": [
       "<div>\n",
       "<style scoped>\n",
       "    .dataframe tbody tr th:only-of-type {\n",
       "        vertical-align: middle;\n",
       "    }\n",
       "\n",
       "    .dataframe tbody tr th {\n",
       "        vertical-align: top;\n",
       "    }\n",
       "\n",
       "    .dataframe thead th {\n",
       "        text-align: right;\n",
       "    }\n",
       "</style>\n",
       "<table border=\"1\" class=\"dataframe\">\n",
       "  <thead>\n",
       "    <tr style=\"text-align: right;\">\n",
       "      <th></th>\n",
       "      <th>Unnamed: 0</th>\n",
       "      <th>time</th>\n",
       "      <th>drake_sequence</th>\n",
       "      <th>winning_team_elder_drakes</th>\n",
       "      <th>losing_team_elder_drakes</th>\n",
       "      <th>winning_team_elemental_drakes</th>\n",
       "      <th>losing_team_elemental_drakes</th>\n",
       "      <th>soul</th>\n",
       "      <th>winning_team_has_soul</th>\n",
       "      <th>winning_team_first_dragon</th>\n",
       "      <th>...</th>\n",
       "      <th>total_drake</th>\n",
       "      <th>win_fire</th>\n",
       "      <th>win_water</th>\n",
       "      <th>win_mountain</th>\n",
       "      <th>lose_fire</th>\n",
       "      <th>lose_water</th>\n",
       "      <th>lose_air</th>\n",
       "      <th>lose_mountain</th>\n",
       "      <th>first_drake</th>\n",
       "      <th>first_drake_min</th>\n",
       "    </tr>\n",
       "    <tr>\n",
       "      <th>win_air</th>\n",
       "      <th></th>\n",
       "      <th></th>\n",
       "      <th></th>\n",
       "      <th></th>\n",
       "      <th></th>\n",
       "      <th></th>\n",
       "      <th></th>\n",
       "      <th></th>\n",
       "      <th></th>\n",
       "      <th></th>\n",
       "      <th></th>\n",
       "      <th></th>\n",
       "      <th></th>\n",
       "      <th></th>\n",
       "      <th></th>\n",
       "      <th></th>\n",
       "      <th></th>\n",
       "      <th></th>\n",
       "      <th></th>\n",
       "      <th></th>\n",
       "      <th></th>\n",
       "    </tr>\n",
       "  </thead>\n",
       "  <tbody>\n",
       "    <tr>\n",
       "      <td>0</td>\n",
       "      <td>71680</td>\n",
       "      <td>71680</td>\n",
       "      <td>71680</td>\n",
       "      <td>71680</td>\n",
       "      <td>71680</td>\n",
       "      <td>71680</td>\n",
       "      <td>71680</td>\n",
       "      <td>71680</td>\n",
       "      <td>71680</td>\n",
       "      <td>71680</td>\n",
       "      <td>...</td>\n",
       "      <td>71680</td>\n",
       "      <td>71680</td>\n",
       "      <td>71680</td>\n",
       "      <td>71680</td>\n",
       "      <td>71680</td>\n",
       "      <td>71680</td>\n",
       "      <td>71680</td>\n",
       "      <td>71680</td>\n",
       "      <td>71680</td>\n",
       "      <td>71680</td>\n",
       "    </tr>\n",
       "    <tr>\n",
       "      <td>1</td>\n",
       "      <td>116534</td>\n",
       "      <td>116534</td>\n",
       "      <td>116534</td>\n",
       "      <td>116534</td>\n",
       "      <td>116534</td>\n",
       "      <td>116534</td>\n",
       "      <td>116534</td>\n",
       "      <td>116534</td>\n",
       "      <td>116534</td>\n",
       "      <td>116534</td>\n",
       "      <td>...</td>\n",
       "      <td>116534</td>\n",
       "      <td>116534</td>\n",
       "      <td>116534</td>\n",
       "      <td>116534</td>\n",
       "      <td>116534</td>\n",
       "      <td>116534</td>\n",
       "      <td>116534</td>\n",
       "      <td>116534</td>\n",
       "      <td>116534</td>\n",
       "      <td>116534</td>\n",
       "    </tr>\n",
       "  </tbody>\n",
       "</table>\n",
       "<p>2 rows × 24 columns</p>\n",
       "</div>"
      ],
      "text/plain": [
       "         Unnamed: 0    time  drake_sequence  winning_team_elder_drakes  \\\n",
       "win_air                                                                  \n",
       "0             71680   71680           71680                      71680   \n",
       "1            116534  116534          116534                     116534   \n",
       "\n",
       "         losing_team_elder_drakes  winning_team_elemental_drakes  \\\n",
       "win_air                                                            \n",
       "0                           71680                          71680   \n",
       "1                          116534                         116534   \n",
       "\n",
       "         losing_team_elemental_drakes    soul  winning_team_has_soul  \\\n",
       "win_air                                                                \n",
       "0                               71680   71680                  71680   \n",
       "1                              116534  116534                 116534   \n",
       "\n",
       "         winning_team_first_dragon  ...  total_drake  win_fire  win_water  \\\n",
       "win_air                             ...                                     \n",
       "0                            71680  ...        71680     71680      71680   \n",
       "1                           116534  ...       116534    116534     116534   \n",
       "\n",
       "         win_mountain  lose_fire  lose_water  lose_air  lose_mountain  \\\n",
       "win_air                                                                 \n",
       "0               71680      71680       71680     71680          71680   \n",
       "1              116534     116534      116534    116534         116534   \n",
       "\n",
       "         first_drake  first_drake_min  \n",
       "win_air                                \n",
       "0              71680            71680  \n",
       "1             116534           116534  \n",
       "\n",
       "[2 rows x 24 columns]"
      ]
     },
     "execution_count": 13,
     "metadata": {},
     "output_type": "execute_result"
    }
   ],
   "source": [
    "final1a = final[(final['first_drake'] == 'A')]\n",
    "final1a.groupby('win_air').count()"
   ]
  },
  {
   "cell_type": "code",
   "execution_count": 14,
   "metadata": {
    "scrolled": true
   },
   "outputs": [
    {
     "data": {
      "text/html": [
       "<div>\n",
       "<style scoped>\n",
       "    .dataframe tbody tr th:only-of-type {\n",
       "        vertical-align: middle;\n",
       "    }\n",
       "\n",
       "    .dataframe tbody tr th {\n",
       "        vertical-align: top;\n",
       "    }\n",
       "\n",
       "    .dataframe thead th {\n",
       "        text-align: right;\n",
       "    }\n",
       "</style>\n",
       "<table border=\"1\" class=\"dataframe\">\n",
       "  <thead>\n",
       "    <tr style=\"text-align: right;\">\n",
       "      <th></th>\n",
       "      <th>Unnamed: 0</th>\n",
       "      <th>time</th>\n",
       "      <th>drake_sequence</th>\n",
       "      <th>winning_team_elder_drakes</th>\n",
       "      <th>losing_team_elder_drakes</th>\n",
       "      <th>winning_team_elemental_drakes</th>\n",
       "      <th>losing_team_elemental_drakes</th>\n",
       "      <th>soul</th>\n",
       "      <th>winning_team_has_soul</th>\n",
       "      <th>winning_team_first_dragon</th>\n",
       "      <th>...</th>\n",
       "      <th>total_drake</th>\n",
       "      <th>win_fire</th>\n",
       "      <th>win_water</th>\n",
       "      <th>win_air</th>\n",
       "      <th>lose_fire</th>\n",
       "      <th>lose_water</th>\n",
       "      <th>lose_air</th>\n",
       "      <th>lose_mountain</th>\n",
       "      <th>first_drake</th>\n",
       "      <th>first_drake_min</th>\n",
       "    </tr>\n",
       "    <tr>\n",
       "      <th>win_mountain</th>\n",
       "      <th></th>\n",
       "      <th></th>\n",
       "      <th></th>\n",
       "      <th></th>\n",
       "      <th></th>\n",
       "      <th></th>\n",
       "      <th></th>\n",
       "      <th></th>\n",
       "      <th></th>\n",
       "      <th></th>\n",
       "      <th></th>\n",
       "      <th></th>\n",
       "      <th></th>\n",
       "      <th></th>\n",
       "      <th></th>\n",
       "      <th></th>\n",
       "      <th></th>\n",
       "      <th></th>\n",
       "      <th></th>\n",
       "      <th></th>\n",
       "      <th></th>\n",
       "    </tr>\n",
       "  </thead>\n",
       "  <tbody>\n",
       "    <tr>\n",
       "      <td>0</td>\n",
       "      <td>66466</td>\n",
       "      <td>66466</td>\n",
       "      <td>66466</td>\n",
       "      <td>66466</td>\n",
       "      <td>66466</td>\n",
       "      <td>66466</td>\n",
       "      <td>66466</td>\n",
       "      <td>66466</td>\n",
       "      <td>66466</td>\n",
       "      <td>66466</td>\n",
       "      <td>...</td>\n",
       "      <td>66466</td>\n",
       "      <td>66466</td>\n",
       "      <td>66466</td>\n",
       "      <td>66466</td>\n",
       "      <td>66466</td>\n",
       "      <td>66466</td>\n",
       "      <td>66466</td>\n",
       "      <td>66466</td>\n",
       "      <td>66466</td>\n",
       "      <td>66466</td>\n",
       "    </tr>\n",
       "    <tr>\n",
       "      <td>1</td>\n",
       "      <td>122646</td>\n",
       "      <td>122646</td>\n",
       "      <td>122646</td>\n",
       "      <td>122646</td>\n",
       "      <td>122646</td>\n",
       "      <td>122646</td>\n",
       "      <td>122646</td>\n",
       "      <td>122646</td>\n",
       "      <td>122646</td>\n",
       "      <td>122646</td>\n",
       "      <td>...</td>\n",
       "      <td>122646</td>\n",
       "      <td>122646</td>\n",
       "      <td>122646</td>\n",
       "      <td>122646</td>\n",
       "      <td>122646</td>\n",
       "      <td>122646</td>\n",
       "      <td>122646</td>\n",
       "      <td>122646</td>\n",
       "      <td>122646</td>\n",
       "      <td>122646</td>\n",
       "    </tr>\n",
       "  </tbody>\n",
       "</table>\n",
       "<p>2 rows × 24 columns</p>\n",
       "</div>"
      ],
      "text/plain": [
       "              Unnamed: 0    time  drake_sequence  winning_team_elder_drakes  \\\n",
       "win_mountain                                                                  \n",
       "0                  66466   66466           66466                      66466   \n",
       "1                 122646  122646          122646                     122646   \n",
       "\n",
       "              losing_team_elder_drakes  winning_team_elemental_drakes  \\\n",
       "win_mountain                                                            \n",
       "0                                66466                          66466   \n",
       "1                               122646                         122646   \n",
       "\n",
       "              losing_team_elemental_drakes    soul  winning_team_has_soul  \\\n",
       "win_mountain                                                                \n",
       "0                                    66466   66466                  66466   \n",
       "1                                   122646  122646                 122646   \n",
       "\n",
       "              winning_team_first_dragon  ...  total_drake  win_fire  \\\n",
       "win_mountain                             ...                          \n",
       "0                                 66466  ...        66466     66466   \n",
       "1                                122646  ...       122646    122646   \n",
       "\n",
       "              win_water  win_air  lose_fire  lose_water  lose_air  \\\n",
       "win_mountain                                                        \n",
       "0                 66466    66466      66466       66466     66466   \n",
       "1                122646   122646     122646      122646    122646   \n",
       "\n",
       "              lose_mountain  first_drake  first_drake_min  \n",
       "win_mountain                                               \n",
       "0                     66466        66466            66466  \n",
       "1                    122646       122646           122646  \n",
       "\n",
       "[2 rows x 24 columns]"
      ]
     },
     "execution_count": 14,
     "metadata": {},
     "output_type": "execute_result"
    }
   ],
   "source": [
    "final1m = final[(final['first_drake'] == 'M')]\n",
    "final1m.groupby('win_mountain').count()"
   ]
  },
  {
   "cell_type": "markdown",
   "metadata": {},
   "source": [
    "## First Dragon Time vs Win Rate Stats"
   ]
  },
  {
   "cell_type": "code",
   "execution_count": 15,
   "metadata": {},
   "outputs": [],
   "source": [
    "def drakeplot(firstwin): \n",
    "    bb = list(range(21))[5:]\n",
    "    len(bb)\n",
    "    firstwin = firstwin[:32]\n",
    "    int(len(firstwin)/2)\n",
    "    aa = []\n",
    "    for i in range(int(len(firstwin)/2)):\n",
    "        aa.append(firstwin[2*i+1]/(firstwin[2*i]+firstwin[2*i+1]))\n",
    "    return aa, bb"
   ]
  },
  {
   "cell_type": "code",
   "execution_count": 16,
   "metadata": {},
   "outputs": [],
   "source": [
    "aa = drakeplot(firstwin)[0]\n",
    "bb = drakeplot(firstwin)[1]"
   ]
  },
  {
   "cell_type": "code",
   "execution_count": 17,
   "metadata": {
    "scrolled": true
   },
   "outputs": [
    {
     "data": {
      "text/plain": [
       "[<matplotlib.lines.Line2D at 0x7fbaf10fecd0>]"
      ]
     },
     "execution_count": 17,
     "metadata": {},
     "output_type": "execute_result"
    },
    {
     "data": {
      "image/png": "[encoded data removed]",
      "text/plain": [
       "<Figure size 432x288 with 1 Axes>"
      ]
     },
     "metadata": {
      "needs_background": "light"
     },
     "output_type": "display_data"
    }
   ],
   "source": [
    "plt.plot(bb,aa)"
   ]
  },
  {
   "cell_type": "markdown",
   "metadata": {},
   "source": [
    "## cf) First Dragon Time Per Tier"
   ]
  },
  {
   "cell_type": "code",
   "execution_count": 18,
   "metadata": {},
   "outputs": [],
   "source": [
    "finallow = final[(final['tier'] == 'IRON') | (final['tier'] == 'BRONZE') | (final['tier'] == 'SILVER') | (final['tier'] == 'GOLD')] \n",
    "finalhigh = final[(final['tier'] == 'PLATINUM') | (final['tier'] == 'DIAMOND') | (final['tier'] == 'MASTER') | (final['tier'] == 'GRANDMASTER') | (final['tier'] == 'CHALLENGER')] \n"
   ]
  },
  {
   "cell_type": "code",
   "execution_count": 19,
   "metadata": {
    "scrolled": true
   },
   "outputs": [
    {
     "data": {
      "text/plain": [
       "(array([1.0473e+04, 2.1191e+04, 2.5265e+04, 2.0692e+04, 2.1999e+04,\n",
       "        1.9913e+04, 1.6200e+04, 1.3622e+04, 1.2312e+04, 1.0772e+04,\n",
       "        9.2950e+03, 7.0750e+03, 5.2670e+03, 3.7300e+03, 2.7870e+03,\n",
       "        1.9580e+03, 1.3860e+03, 9.3400e+02, 6.1500e+02, 3.9400e+02,\n",
       "        2.5700e+02, 1.4700e+02, 9.8000e+01, 5.3000e+01, 4.2000e+01,\n",
       "        8.0000e+00, 7.0000e+00, 1.0000e+00, 3.0000e+00, 2.0000e+00]),\n",
       " array([ 5.18365,  5.75961,  6.33557,  6.91153,  7.48749,  8.06345,\n",
       "         8.63941,  9.21537,  9.79133, 10.36729, 10.94325, 11.51921,\n",
       "        12.09517, 12.67113, 13.24709, 13.82305, 14.39901, 14.97497,\n",
       "        15.55093, 16.12689, 16.70285, 17.27881, 17.85477, 18.43073,\n",
       "        19.00669, 19.58265, 20.15861, 20.73457, 21.31053, 21.88649,\n",
       "        22.46245]),\n",
       " <a list of 30 Patch objects>)"
      ]
     },
     "execution_count": 19,
     "metadata": {},
     "output_type": "execute_result"
    },
    {
     "data": {
      "image/png": "[encoded data removed]",
      "text/plain": [
       "<Figure size 432x288 with 1 Axes>"
      ]
     },
     "metadata": {
      "needs_background": "light"
     },
     "output_type": "display_data"
    }
   ],
   "source": [
    "xx = finalhigh['first_drake_time']\n",
    "xx1 = xx.tolist()\n",
    "xx1 = xx.apply(lambda x : x/60000)\n",
    "xx1.describe()\n",
    "plt.hist(xx1, bins = 30)"
   ]
  },
  {
   "cell_type": "code",
   "execution_count": 20,
   "metadata": {},
   "outputs": [
    {
     "data": {
      "text/plain": [
       "(array([2.7134e+04, 6.0891e+04, 6.3513e+04, 6.4215e+04, 6.1658e+04,\n",
       "        5.1712e+04, 4.7635e+04, 4.4207e+04, 3.7737e+04, 2.7578e+04,\n",
       "        2.0152e+04, 1.4385e+04, 1.0484e+04, 6.7520e+03, 4.4960e+03,\n",
       "        3.0660e+03, 1.8800e+03, 1.1140e+03, 6.2600e+02, 3.2700e+02,\n",
       "        1.7200e+02, 7.4000e+01, 5.1000e+01, 2.3000e+01, 1.3000e+01,\n",
       "        1.1000e+01, 2.0000e+00, 2.0000e+00, 3.0000e+00, 1.0000e+00]),\n",
       " array([ 5.16018333,  5.91837111,  6.67655889,  7.43474667,  8.19293444,\n",
       "         8.95112222,  9.70931   , 10.46749778, 11.22568556, 11.98387333,\n",
       "        12.74206111, 13.50024889, 14.25843667, 15.01662444, 15.77481222,\n",
       "        16.533     , 17.29118778, 18.04937556, 18.80756333, 19.56575111,\n",
       "        20.32393889, 21.08212667, 21.84031444, 22.59850222, 23.35669   ,\n",
       "        24.11487778, 24.87306556, 25.63125333, 26.38944111, 27.14762889,\n",
       "        27.90581667]),\n",
       " <a list of 30 Patch objects>)"
      ]
     },
     "execution_count": 20,
     "metadata": {},
     "output_type": "execute_result"
    },
    {
     "data": {
      "image/png": "[encoded data removed]",
      "text/plain": [
       "<Figure size 432x288 with 1 Axes>"
      ]
     },
     "metadata": {
      "needs_background": "light"
     },
     "output_type": "display_data"
    }
   ],
   "source": [
    "xx = finallow['first_drake_time']\n",
    "xx1 = xx.tolist()\n",
    "xx1 = xx.apply(lambda x : x/60000)\n",
    "xx1.describe()\n",
    "plt.hist(xx1, bins = 30)"
   ]
  },
  {
   "cell_type": "markdown",
   "metadata": {},
   "source": [
    "# Soul Dragon"
   ]
  },
  {
   "cell_type": "code",
   "execution_count": 21,
   "metadata": {},
   "outputs": [],
   "source": [
    "finals = final[final['soul'] != 'No Soul']"
   ]
  },
  {
   "cell_type": "code",
   "execution_count": 22,
   "metadata": {
    "scrolled": false
   },
   "outputs": [
    {
     "data": {
      "text/html": [
       "<div>\n",
       "<style scoped>\n",
       "    .dataframe tbody tr th:only-of-type {\n",
       "        vertical-align: middle;\n",
       "    }\n",
       "\n",
       "    .dataframe tbody tr th {\n",
       "        vertical-align: top;\n",
       "    }\n",
       "\n",
       "    .dataframe thead th {\n",
       "        text-align: right;\n",
       "    }\n",
       "</style>\n",
       "<table border=\"1\" class=\"dataframe\">\n",
       "  <thead>\n",
       "    <tr style=\"text-align: right;\">\n",
       "      <th></th>\n",
       "      <th>Unnamed: 0</th>\n",
       "      <th>time</th>\n",
       "      <th>drake_sequence</th>\n",
       "      <th>winning_team_elder_drakes</th>\n",
       "      <th>losing_team_elder_drakes</th>\n",
       "      <th>winning_team_elemental_drakes</th>\n",
       "      <th>losing_team_elemental_drakes</th>\n",
       "      <th>soul</th>\n",
       "      <th>winning_team_first_dragon</th>\n",
       "      <th>first_drake_time</th>\n",
       "      <th>...</th>\n",
       "      <th>win_fire</th>\n",
       "      <th>win_water</th>\n",
       "      <th>win_air</th>\n",
       "      <th>win_mountain</th>\n",
       "      <th>lose_fire</th>\n",
       "      <th>lose_water</th>\n",
       "      <th>lose_air</th>\n",
       "      <th>lose_mountain</th>\n",
       "      <th>first_drake</th>\n",
       "      <th>first_drake_min</th>\n",
       "    </tr>\n",
       "    <tr>\n",
       "      <th>winning_team_has_soul</th>\n",
       "      <th></th>\n",
       "      <th></th>\n",
       "      <th></th>\n",
       "      <th></th>\n",
       "      <th></th>\n",
       "      <th></th>\n",
       "      <th></th>\n",
       "      <th></th>\n",
       "      <th></th>\n",
       "      <th></th>\n",
       "      <th></th>\n",
       "      <th></th>\n",
       "      <th></th>\n",
       "      <th></th>\n",
       "      <th></th>\n",
       "      <th></th>\n",
       "      <th></th>\n",
       "      <th></th>\n",
       "      <th></th>\n",
       "      <th></th>\n",
       "      <th></th>\n",
       "    </tr>\n",
       "  </thead>\n",
       "  <tbody>\n",
       "    <tr>\n",
       "      <td>False</td>\n",
       "      <td>19630</td>\n",
       "      <td>19630</td>\n",
       "      <td>19630</td>\n",
       "      <td>19630</td>\n",
       "      <td>19630</td>\n",
       "      <td>19630</td>\n",
       "      <td>19630</td>\n",
       "      <td>19630</td>\n",
       "      <td>19630</td>\n",
       "      <td>19630</td>\n",
       "      <td>...</td>\n",
       "      <td>19630</td>\n",
       "      <td>19630</td>\n",
       "      <td>19630</td>\n",
       "      <td>19630</td>\n",
       "      <td>19630</td>\n",
       "      <td>19630</td>\n",
       "      <td>19630</td>\n",
       "      <td>19630</td>\n",
       "      <td>19630</td>\n",
       "      <td>19630</td>\n",
       "    </tr>\n",
       "    <tr>\n",
       "      <td>True</td>\n",
       "      <td>166827</td>\n",
       "      <td>166827</td>\n",
       "      <td>166827</td>\n",
       "      <td>166827</td>\n",
       "      <td>166827</td>\n",
       "      <td>166827</td>\n",
       "      <td>166827</td>\n",
       "      <td>166827</td>\n",
       "      <td>166827</td>\n",
       "      <td>166827</td>\n",
       "      <td>...</td>\n",
       "      <td>166827</td>\n",
       "      <td>166827</td>\n",
       "      <td>166827</td>\n",
       "      <td>166827</td>\n",
       "      <td>166827</td>\n",
       "      <td>166827</td>\n",
       "      <td>166827</td>\n",
       "      <td>166827</td>\n",
       "      <td>166827</td>\n",
       "      <td>166827</td>\n",
       "    </tr>\n",
       "  </tbody>\n",
       "</table>\n",
       "<p>2 rows × 24 columns</p>\n",
       "</div>"
      ],
      "text/plain": [
       "                       Unnamed: 0    time  drake_sequence  \\\n",
       "winning_team_has_soul                                       \n",
       "False                       19630   19630           19630   \n",
       "True                       166827  166827          166827   \n",
       "\n",
       "                       winning_team_elder_drakes  losing_team_elder_drakes  \\\n",
       "winning_team_has_soul                                                        \n",
       "False                                      19630                     19630   \n",
       "True                                      166827                    166827   \n",
       "\n",
       "                       winning_team_elemental_drakes  \\\n",
       "winning_team_has_soul                                  \n",
       "False                                          19630   \n",
       "True                                          166827   \n",
       "\n",
       "                       losing_team_elemental_drakes    soul  \\\n",
       "winning_team_has_soul                                         \n",
       "False                                         19630   19630   \n",
       "True                                         166827  166827   \n",
       "\n",
       "                       winning_team_first_dragon  first_drake_time  ...  \\\n",
       "winning_team_has_soul                                               ...   \n",
       "False                                      19630             19630  ...   \n",
       "True                                      166827            166827  ...   \n",
       "\n",
       "                       win_fire  win_water  win_air  win_mountain  lose_fire  \\\n",
       "winning_team_has_soul                                                          \n",
       "False                     19630      19630    19630         19630      19630   \n",
       "True                     166827     166827   166827        166827     166827   \n",
       "\n",
       "                       lose_water  lose_air  lose_mountain  first_drake  \\\n",
       "winning_team_has_soul                                                     \n",
       "False                       19630     19630          19630        19630   \n",
       "True                       166827    166827         166827       166827   \n",
       "\n",
       "                       first_drake_min  \n",
       "winning_team_has_soul                   \n",
       "False                            19630  \n",
       "True                            166827  \n",
       "\n",
       "[2 rows x 24 columns]"
      ]
     },
     "execution_count": 22,
     "metadata": {},
     "output_type": "execute_result"
    }
   ],
   "source": [
    "finals.groupby('winning_team_has_soul').count()"
   ]
  },
  {
   "cell_type": "markdown",
   "metadata": {},
   "source": [
    "## Win Rate Per Soul"
   ]
  },
  {
   "cell_type": "code",
   "execution_count": 23,
   "metadata": {
    "scrolled": true
   },
   "outputs": [
    {
     "data": {
      "text/plain": [
       "soul  winning_team_has_soul\n",
       "A     False                     5358\n",
       "      True                     42800\n",
       "F     False                     4898\n",
       "      True                     40219\n",
       "M     False                     4803\n",
       "      True                     42088\n",
       "W     False                     4571\n",
       "      True                     41720\n",
       "dtype: int64"
      ]
     },
     "execution_count": 23,
     "metadata": {},
     "output_type": "execute_result"
    }
   ],
   "source": [
    "finals.groupby(['soul','winning_team_has_soul']).size()"
   ]
  },
  {
   "cell_type": "code",
   "execution_count": 25,
   "metadata": {},
   "outputs": [
    {
     "data": {
      "text/html": [
       "<div>\n",
       "<style scoped>\n",
       "    .dataframe tbody tr th:only-of-type {\n",
       "        vertical-align: middle;\n",
       "    }\n",
       "\n",
       "    .dataframe tbody tr th {\n",
       "        vertical-align: top;\n",
       "    }\n",
       "\n",
       "    .dataframe thead th {\n",
       "        text-align: right;\n",
       "    }\n",
       "</style>\n",
       "<table border=\"1\" class=\"dataframe\">\n",
       "  <thead>\n",
       "    <tr style=\"text-align: right;\">\n",
       "      <th></th>\n",
       "      <th>Unnamed: 0</th>\n",
       "      <th>time</th>\n",
       "      <th>drake_sequence</th>\n",
       "      <th>winning_team_elder_drakes</th>\n",
       "      <th>losing_team_elder_drakes</th>\n",
       "      <th>winning_team_elemental_drakes</th>\n",
       "      <th>losing_team_elemental_drakes</th>\n",
       "      <th>winning_team_has_soul</th>\n",
       "      <th>winning_team_first_dragon</th>\n",
       "      <th>first_drake_time</th>\n",
       "      <th>...</th>\n",
       "      <th>win_fire</th>\n",
       "      <th>win_water</th>\n",
       "      <th>win_air</th>\n",
       "      <th>win_mountain</th>\n",
       "      <th>lose_fire</th>\n",
       "      <th>lose_water</th>\n",
       "      <th>lose_air</th>\n",
       "      <th>lose_mountain</th>\n",
       "      <th>first_drake</th>\n",
       "      <th>first_drake_min</th>\n",
       "    </tr>\n",
       "    <tr>\n",
       "      <th>soul</th>\n",
       "      <th></th>\n",
       "      <th></th>\n",
       "      <th></th>\n",
       "      <th></th>\n",
       "      <th></th>\n",
       "      <th></th>\n",
       "      <th></th>\n",
       "      <th></th>\n",
       "      <th></th>\n",
       "      <th></th>\n",
       "      <th></th>\n",
       "      <th></th>\n",
       "      <th></th>\n",
       "      <th></th>\n",
       "      <th></th>\n",
       "      <th></th>\n",
       "      <th></th>\n",
       "      <th></th>\n",
       "      <th></th>\n",
       "      <th></th>\n",
       "      <th></th>\n",
       "    </tr>\n",
       "  </thead>\n",
       "  <tbody>\n",
       "    <tr>\n",
       "      <td>A</td>\n",
       "      <td>48158</td>\n",
       "      <td>48158</td>\n",
       "      <td>48158</td>\n",
       "      <td>48158</td>\n",
       "      <td>48158</td>\n",
       "      <td>48158</td>\n",
       "      <td>48158</td>\n",
       "      <td>48158</td>\n",
       "      <td>48158</td>\n",
       "      <td>48158</td>\n",
       "      <td>...</td>\n",
       "      <td>48158</td>\n",
       "      <td>48158</td>\n",
       "      <td>48158</td>\n",
       "      <td>48158</td>\n",
       "      <td>48158</td>\n",
       "      <td>48158</td>\n",
       "      <td>48158</td>\n",
       "      <td>48158</td>\n",
       "      <td>48158</td>\n",
       "      <td>48158</td>\n",
       "    </tr>\n",
       "    <tr>\n",
       "      <td>F</td>\n",
       "      <td>45117</td>\n",
       "      <td>45117</td>\n",
       "      <td>45117</td>\n",
       "      <td>45117</td>\n",
       "      <td>45117</td>\n",
       "      <td>45117</td>\n",
       "      <td>45117</td>\n",
       "      <td>45117</td>\n",
       "      <td>45117</td>\n",
       "      <td>45117</td>\n",
       "      <td>...</td>\n",
       "      <td>45117</td>\n",
       "      <td>45117</td>\n",
       "      <td>45117</td>\n",
       "      <td>45117</td>\n",
       "      <td>45117</td>\n",
       "      <td>45117</td>\n",
       "      <td>45117</td>\n",
       "      <td>45117</td>\n",
       "      <td>45117</td>\n",
       "      <td>45117</td>\n",
       "    </tr>\n",
       "    <tr>\n",
       "      <td>M</td>\n",
       "      <td>46891</td>\n",
       "      <td>46891</td>\n",
       "      <td>46891</td>\n",
       "      <td>46891</td>\n",
       "      <td>46891</td>\n",
       "      <td>46891</td>\n",
       "      <td>46891</td>\n",
       "      <td>46891</td>\n",
       "      <td>46891</td>\n",
       "      <td>46891</td>\n",
       "      <td>...</td>\n",
       "      <td>46891</td>\n",
       "      <td>46891</td>\n",
       "      <td>46891</td>\n",
       "      <td>46891</td>\n",
       "      <td>46891</td>\n",
       "      <td>46891</td>\n",
       "      <td>46891</td>\n",
       "      <td>46891</td>\n",
       "      <td>46891</td>\n",
       "      <td>46891</td>\n",
       "    </tr>\n",
       "    <tr>\n",
       "      <td>W</td>\n",
       "      <td>46291</td>\n",
       "      <td>46291</td>\n",
       "      <td>46291</td>\n",
       "      <td>46291</td>\n",
       "      <td>46291</td>\n",
       "      <td>46291</td>\n",
       "      <td>46291</td>\n",
       "      <td>46291</td>\n",
       "      <td>46291</td>\n",
       "      <td>46291</td>\n",
       "      <td>...</td>\n",
       "      <td>46291</td>\n",
       "      <td>46291</td>\n",
       "      <td>46291</td>\n",
       "      <td>46291</td>\n",
       "      <td>46291</td>\n",
       "      <td>46291</td>\n",
       "      <td>46291</td>\n",
       "      <td>46291</td>\n",
       "      <td>46291</td>\n",
       "      <td>46291</td>\n",
       "    </tr>\n",
       "  </tbody>\n",
       "</table>\n",
       "<p>4 rows × 24 columns</p>\n",
       "</div>"
      ],
      "text/plain": [
       "      Unnamed: 0   time  drake_sequence  winning_team_elder_drakes  \\\n",
       "soul                                                                 \n",
       "A          48158  48158           48158                      48158   \n",
       "F          45117  45117           45117                      45117   \n",
       "M          46891  46891           46891                      46891   \n",
       "W          46291  46291           46291                      46291   \n",
       "\n",
       "      losing_team_elder_drakes  winning_team_elemental_drakes  \\\n",
       "soul                                                            \n",
       "A                        48158                          48158   \n",
       "F                        45117                          45117   \n",
       "M                        46891                          46891   \n",
       "W                        46291                          46291   \n",
       "\n",
       "      losing_team_elemental_drakes  winning_team_has_soul  \\\n",
       "soul                                                        \n",
       "A                            48158                  48158   \n",
       "F                            45117                  45117   \n",
       "M                            46891                  46891   \n",
       "W                            46291                  46291   \n",
       "\n",
       "      winning_team_first_dragon  first_drake_time  ...  win_fire  win_water  \\\n",
       "soul                                               ...                        \n",
       "A                         48158             48158  ...     48158      48158   \n",
       "F                         45117             45117  ...     45117      45117   \n",
       "M                         46891             46891  ...     46891      46891   \n",
       "W                         46291             46291  ...     46291      46291   \n",
       "\n",
       "      win_air  win_mountain  lose_fire  lose_water  lose_air  lose_mountain  \\\n",
       "soul                                                                          \n",
       "A       48158         48158      48158       48158     48158          48158   \n",
       "F       45117         45117      45117       45117     45117          45117   \n",
       "M       46891         46891      46891       46891     46891          46891   \n",
       "W       46291         46291      46291       46291     46291          46291   \n",
       "\n",
       "      first_drake  first_drake_min  \n",
       "soul                                \n",
       "A           48158            48158  \n",
       "F           45117            45117  \n",
       "M           46891            46891  \n",
       "W           46291            46291  \n",
       "\n",
       "[4 rows x 24 columns]"
      ]
     },
     "execution_count": 25,
     "metadata": {},
     "output_type": "execute_result"
    }
   ],
   "source": [
    "finals.groupby('soul').count()"
   ]
  },
  {
   "cell_type": "code",
   "execution_count": 26,
   "metadata": {
    "scrolled": true
   },
   "outputs": [
    {
     "data": {
      "text/plain": [
       "winning_team_has_soul  soul\n",
       "False                  A        1318\n",
       "                       F        1144\n",
       "                       M        1150\n",
       "                       W        1108\n",
       "True                   A       10706\n",
       "                       F        9952\n",
       "                       M       10474\n",
       "                       W       10086\n",
       "dtype: int64"
      ]
     },
     "execution_count": 26,
     "metadata": {},
     "output_type": "execute_result"
    }
   ],
   "source": [
    "finalsh = finals[(finals['tier'] == 'PLATINUM') | (finals['tier'] == 'DIAMOND') | (finals['tier'] == 'MASTER') | (finals['tier'] == 'GRANDMASTER') | (finals['tier'] == 'CHALLENGER')]\n",
    "finalsh.groupby(['winning_team_has_soul','soul']).size()"
   ]
  },
  {
   "cell_type": "markdown",
   "metadata": {},
   "source": [
    "## Same Number of Elemental Soul Drakes"
   ]
  },
  {
   "cell_type": "code",
   "execution_count": 27,
   "metadata": {},
   "outputs": [],
   "source": [
    "dd = []\n",
    "for index, row in finals.iterrows():\n",
    "    if row['winning_team_has_soul'] == True:\n",
    "        dd.append(row['winning_team_elemental_drakes'].count(row['soul']))\n",
    "    else:\n",
    "        dd.append(row['losing_team_elemental_drakes'].count(row['soul']))"
   ]
  },
  {
   "cell_type": "code",
   "execution_count": 28,
   "metadata": {},
   "outputs": [
    {
     "name": "stderr",
     "output_type": "stream",
     "text": [
      "/opt/anaconda3/lib/python3.7/site-packages/ipykernel_launcher.py:1: SettingWithCopyWarning: \n",
      "A value is trying to be set on a copy of a slice from a DataFrame.\n",
      "Try using .loc[row_indexer,col_indexer] = value instead\n",
      "\n",
      "See the caveats in the documentation: http://pandas.pydata.org/pandas-docs/stable/user_guide/indexing.html#returning-a-view-versus-a-copy\n",
      "  \"\"\"Entry point for launching an IPython kernel.\n"
     ]
    }
   ],
   "source": [
    "finals['soul_total'] = dd"
   ]
  },
  {
   "cell_type": "code",
   "execution_count": 29,
   "metadata": {},
   "outputs": [
    {
     "data": {
      "text/plain": [
       "soul_total\n",
       "2    132770\n",
       "3     48791\n",
       "4      4896\n",
       "dtype: int64"
      ]
     },
     "execution_count": 29,
     "metadata": {},
     "output_type": "execute_result"
    }
   ],
   "source": [
    "finals.groupby('soul_total').size()"
   ]
  },
  {
   "cell_type": "code",
   "execution_count": 30,
   "metadata": {},
   "outputs": [
    {
     "data": {
      "text/plain": [
       "winning_team_has_soul\n",
       "False     12368\n",
       "True     120402\n",
       "dtype: int64"
      ]
     },
     "execution_count": 30,
     "metadata": {},
     "output_type": "execute_result"
    }
   ],
   "source": [
    "finals2 = finals[finals['soul_total'] == 2]\n",
    "finals2.groupby('winning_team_has_soul').size()"
   ]
  },
  {
   "cell_type": "code",
   "execution_count": 31,
   "metadata": {},
   "outputs": [
    {
     "data": {
      "text/plain": [
       "winning_team_has_soul\n",
       "False     6481\n",
       "True     42310\n",
       "dtype: int64"
      ]
     },
     "execution_count": 31,
     "metadata": {},
     "output_type": "execute_result"
    }
   ],
   "source": [
    "finals3 = finals[finals['soul_total'] == 3]\n",
    "finals3.groupby('winning_team_has_soul').size()"
   ]
  },
  {
   "cell_type": "code",
   "execution_count": 32,
   "metadata": {},
   "outputs": [
    {
     "data": {
      "text/plain": [
       "winning_team_has_soul\n",
       "False     781\n",
       "True     4115\n",
       "dtype: int64"
      ]
     },
     "execution_count": 32,
     "metadata": {},
     "output_type": "execute_result"
    }
   ],
   "source": [
    "finals4 = finals[finals['soul_total'] == 4]\n",
    "finals4.groupby('winning_team_has_soul').size()"
   ]
  },
  {
   "cell_type": "code",
   "execution_count": 33,
   "metadata": {},
   "outputs": [
    {
     "data": {
      "text/plain": [
       "winning_team_has_soul  soul\n",
       "False                  A        223\n",
       "                       F        176\n",
       "                       M        168\n",
       "                       W        214\n",
       "True                   A        996\n",
       "                       F       1062\n",
       "                       M       1043\n",
       "                       W       1014\n",
       "dtype: int64"
      ]
     },
     "execution_count": 33,
     "metadata": {},
     "output_type": "execute_result"
    }
   ],
   "source": [
    "finals4.groupby(['winning_team_has_soul','soul']).size()"
   ]
  },
  {
   "cell_type": "code",
   "execution_count": 34,
   "metadata": {},
   "outputs": [
    {
     "data": {
      "text/plain": [
       "winning_team_has_soul  soul\n",
       "False                  A        60\n",
       "                       F        25\n",
       "                       M        41\n",
       "                       W        45\n",
       "True                   A       221\n",
       "                       F       231\n",
       "                       M       239\n",
       "                       W       188\n",
       "dtype: int64"
      ]
     },
     "execution_count": 34,
     "metadata": {},
     "output_type": "execute_result"
    }
   ],
   "source": [
    "finals4h = finals4[(finals4['tier'] == 'PLATINUM') | (finals4['tier'] == 'DIAMOND') | (finals4['tier'] == 'MASTER') | (finals4['tier'] == 'GRANDMASTER') | (finals4['tier'] == 'CHALLENGER')]\n",
    "finals4h.groupby(['winning_team_has_soul','soul']).size()"
   ]
  },
  {
   "cell_type": "markdown",
   "metadata": {},
   "source": [
    "## Elder Dragon"
   ]
  },
  {
   "cell_type": "code",
   "execution_count": 35,
   "metadata": {},
   "outputs": [],
   "source": [
    "finale = final[(final['winning_team_elder_drakes'] != 0) | (final['losing_team_elder_drakes'] != 0)]"
   ]
  },
  {
   "cell_type": "code",
   "execution_count": 36,
   "metadata": {},
   "outputs": [
    {
     "data": {
      "text/html": [
       "<div>\n",
       "<style scoped>\n",
       "    .dataframe tbody tr th:only-of-type {\n",
       "        vertical-align: middle;\n",
       "    }\n",
       "\n",
       "    .dataframe tbody tr th {\n",
       "        vertical-align: top;\n",
       "    }\n",
       "\n",
       "    .dataframe thead th {\n",
       "        text-align: right;\n",
       "    }\n",
       "</style>\n",
       "<table border=\"1\" class=\"dataframe\">\n",
       "  <thead>\n",
       "    <tr style=\"text-align: right;\">\n",
       "      <th></th>\n",
       "      <th>Unnamed: 0</th>\n",
       "      <th>time</th>\n",
       "      <th>drake_sequence</th>\n",
       "      <th>winning_team_elder_drakes</th>\n",
       "      <th>losing_team_elder_drakes</th>\n",
       "      <th>winning_team_elemental_drakes</th>\n",
       "      <th>losing_team_elemental_drakes</th>\n",
       "      <th>soul</th>\n",
       "      <th>winning_team_has_soul</th>\n",
       "      <th>winning_team_first_dragon</th>\n",
       "      <th>...</th>\n",
       "      <th>win_fire</th>\n",
       "      <th>win_water</th>\n",
       "      <th>win_air</th>\n",
       "      <th>win_mountain</th>\n",
       "      <th>lose_fire</th>\n",
       "      <th>lose_water</th>\n",
       "      <th>lose_air</th>\n",
       "      <th>lose_mountain</th>\n",
       "      <th>first_drake</th>\n",
       "      <th>first_drake_min</th>\n",
       "    </tr>\n",
       "  </thead>\n",
       "  <tbody>\n",
       "    <tr>\n",
       "      <td>151</td>\n",
       "      <td>153</td>\n",
       "      <td>2848</td>\n",
       "      <td>WMFFFFE</td>\n",
       "      <td>1</td>\n",
       "      <td>0</td>\n",
       "      <td>MF</td>\n",
       "      <td>WFFF</td>\n",
       "      <td>F</td>\n",
       "      <td>False</td>\n",
       "      <td>False</td>\n",
       "      <td>...</td>\n",
       "      <td>1</td>\n",
       "      <td>0</td>\n",
       "      <td>0</td>\n",
       "      <td>1</td>\n",
       "      <td>3</td>\n",
       "      <td>1</td>\n",
       "      <td>0</td>\n",
       "      <td>0</td>\n",
       "      <td>W</td>\n",
       "      <td>6</td>\n",
       "    </tr>\n",
       "    <tr>\n",
       "      <td>169</td>\n",
       "      <td>171</td>\n",
       "      <td>2079</td>\n",
       "      <td>WFAAE</td>\n",
       "      <td>1</td>\n",
       "      <td>0</td>\n",
       "      <td></td>\n",
       "      <td>WFAA</td>\n",
       "      <td>A</td>\n",
       "      <td>False</td>\n",
       "      <td>False</td>\n",
       "      <td>...</td>\n",
       "      <td>0</td>\n",
       "      <td>0</td>\n",
       "      <td>0</td>\n",
       "      <td>0</td>\n",
       "      <td>1</td>\n",
       "      <td>1</td>\n",
       "      <td>2</td>\n",
       "      <td>0</td>\n",
       "      <td>W</td>\n",
       "      <td>10</td>\n",
       "    </tr>\n",
       "    <tr>\n",
       "      <td>171</td>\n",
       "      <td>173</td>\n",
       "      <td>2233</td>\n",
       "      <td>MWFFFE</td>\n",
       "      <td>1</td>\n",
       "      <td>0</td>\n",
       "      <td>WFFF</td>\n",
       "      <td>M</td>\n",
       "      <td>F</td>\n",
       "      <td>True</td>\n",
       "      <td>False</td>\n",
       "      <td>...</td>\n",
       "      <td>3</td>\n",
       "      <td>1</td>\n",
       "      <td>0</td>\n",
       "      <td>0</td>\n",
       "      <td>0</td>\n",
       "      <td>0</td>\n",
       "      <td>0</td>\n",
       "      <td>1</td>\n",
       "      <td>M</td>\n",
       "      <td>7</td>\n",
       "    </tr>\n",
       "    <tr>\n",
       "      <td>174</td>\n",
       "      <td>176</td>\n",
       "      <td>1897</td>\n",
       "      <td>AFWWE</td>\n",
       "      <td>1</td>\n",
       "      <td>0</td>\n",
       "      <td>AFWW</td>\n",
       "      <td></td>\n",
       "      <td>W</td>\n",
       "      <td>True</td>\n",
       "      <td>True</td>\n",
       "      <td>...</td>\n",
       "      <td>1</td>\n",
       "      <td>2</td>\n",
       "      <td>1</td>\n",
       "      <td>0</td>\n",
       "      <td>0</td>\n",
       "      <td>0</td>\n",
       "      <td>0</td>\n",
       "      <td>0</td>\n",
       "      <td>A</td>\n",
       "      <td>6</td>\n",
       "    </tr>\n",
       "    <tr>\n",
       "      <td>211</td>\n",
       "      <td>213</td>\n",
       "      <td>2121</td>\n",
       "      <td>AWMME</td>\n",
       "      <td>1</td>\n",
       "      <td>0</td>\n",
       "      <td></td>\n",
       "      <td>AWMM</td>\n",
       "      <td>M</td>\n",
       "      <td>False</td>\n",
       "      <td>False</td>\n",
       "      <td>...</td>\n",
       "      <td>0</td>\n",
       "      <td>0</td>\n",
       "      <td>0</td>\n",
       "      <td>0</td>\n",
       "      <td>0</td>\n",
       "      <td>1</td>\n",
       "      <td>1</td>\n",
       "      <td>2</td>\n",
       "      <td>A</td>\n",
       "      <td>6</td>\n",
       "    </tr>\n",
       "    <tr>\n",
       "      <td>...</td>\n",
       "      <td>...</td>\n",
       "      <td>...</td>\n",
       "      <td>...</td>\n",
       "      <td>...</td>\n",
       "      <td>...</td>\n",
       "      <td>...</td>\n",
       "      <td>...</td>\n",
       "      <td>...</td>\n",
       "      <td>...</td>\n",
       "      <td>...</td>\n",
       "      <td>...</td>\n",
       "      <td>...</td>\n",
       "      <td>...</td>\n",
       "      <td>...</td>\n",
       "      <td>...</td>\n",
       "      <td>...</td>\n",
       "      <td>...</td>\n",
       "      <td>...</td>\n",
       "      <td>...</td>\n",
       "      <td>...</td>\n",
       "      <td>...</td>\n",
       "    </tr>\n",
       "    <tr>\n",
       "      <td>756303</td>\n",
       "      <td>758464</td>\n",
       "      <td>1946</td>\n",
       "      <td>WMAAE</td>\n",
       "      <td>1</td>\n",
       "      <td>0</td>\n",
       "      <td>WMAA</td>\n",
       "      <td></td>\n",
       "      <td>A</td>\n",
       "      <td>True</td>\n",
       "      <td>True</td>\n",
       "      <td>...</td>\n",
       "      <td>0</td>\n",
       "      <td>1</td>\n",
       "      <td>2</td>\n",
       "      <td>1</td>\n",
       "      <td>0</td>\n",
       "      <td>0</td>\n",
       "      <td>0</td>\n",
       "      <td>0</td>\n",
       "      <td>W</td>\n",
       "      <td>6</td>\n",
       "    </tr>\n",
       "    <tr>\n",
       "      <td>756311</td>\n",
       "      <td>758472</td>\n",
       "      <td>2075</td>\n",
       "      <td>AMFFE</td>\n",
       "      <td>1</td>\n",
       "      <td>0</td>\n",
       "      <td>AMFF</td>\n",
       "      <td></td>\n",
       "      <td>F</td>\n",
       "      <td>True</td>\n",
       "      <td>True</td>\n",
       "      <td>...</td>\n",
       "      <td>2</td>\n",
       "      <td>0</td>\n",
       "      <td>1</td>\n",
       "      <td>1</td>\n",
       "      <td>0</td>\n",
       "      <td>0</td>\n",
       "      <td>0</td>\n",
       "      <td>0</td>\n",
       "      <td>A</td>\n",
       "      <td>8</td>\n",
       "    </tr>\n",
       "    <tr>\n",
       "      <td>756362</td>\n",
       "      <td>758523</td>\n",
       "      <td>2208</td>\n",
       "      <td>MWAAE</td>\n",
       "      <td>1</td>\n",
       "      <td>0</td>\n",
       "      <td></td>\n",
       "      <td>MWAA</td>\n",
       "      <td>A</td>\n",
       "      <td>False</td>\n",
       "      <td>False</td>\n",
       "      <td>...</td>\n",
       "      <td>0</td>\n",
       "      <td>0</td>\n",
       "      <td>0</td>\n",
       "      <td>0</td>\n",
       "      <td>0</td>\n",
       "      <td>1</td>\n",
       "      <td>2</td>\n",
       "      <td>1</td>\n",
       "      <td>M</td>\n",
       "      <td>6</td>\n",
       "    </tr>\n",
       "    <tr>\n",
       "      <td>756380</td>\n",
       "      <td>758541</td>\n",
       "      <td>3306</td>\n",
       "      <td>FWAAAAEE</td>\n",
       "      <td>1</td>\n",
       "      <td>1</td>\n",
       "      <td>AAAA</td>\n",
       "      <td>FW</td>\n",
       "      <td>A</td>\n",
       "      <td>True</td>\n",
       "      <td>False</td>\n",
       "      <td>...</td>\n",
       "      <td>0</td>\n",
       "      <td>0</td>\n",
       "      <td>4</td>\n",
       "      <td>0</td>\n",
       "      <td>1</td>\n",
       "      <td>1</td>\n",
       "      <td>0</td>\n",
       "      <td>0</td>\n",
       "      <td>F</td>\n",
       "      <td>15</td>\n",
       "    </tr>\n",
       "    <tr>\n",
       "      <td>756400</td>\n",
       "      <td>758561</td>\n",
       "      <td>2355</td>\n",
       "      <td>WAMME</td>\n",
       "      <td>1</td>\n",
       "      <td>0</td>\n",
       "      <td>WAMM</td>\n",
       "      <td></td>\n",
       "      <td>M</td>\n",
       "      <td>True</td>\n",
       "      <td>True</td>\n",
       "      <td>...</td>\n",
       "      <td>0</td>\n",
       "      <td>1</td>\n",
       "      <td>1</td>\n",
       "      <td>2</td>\n",
       "      <td>0</td>\n",
       "      <td>0</td>\n",
       "      <td>0</td>\n",
       "      <td>0</td>\n",
       "      <td>W</td>\n",
       "      <td>12</td>\n",
       "    </tr>\n",
       "  </tbody>\n",
       "</table>\n",
       "<p>33670 rows × 25 columns</p>\n",
       "</div>"
      ],
      "text/plain": [
       "        Unnamed: 0  time drake_sequence  winning_team_elder_drakes  \\\n",
       "151            153  2848        WMFFFFE                          1   \n",
       "169            171  2079          WFAAE                          1   \n",
       "171            173  2233         MWFFFE                          1   \n",
       "174            176  1897          AFWWE                          1   \n",
       "211            213  2121          AWMME                          1   \n",
       "...            ...   ...            ...                        ...   \n",
       "756303      758464  1946          WMAAE                          1   \n",
       "756311      758472  2075          AMFFE                          1   \n",
       "756362      758523  2208          MWAAE                          1   \n",
       "756380      758541  3306       FWAAAAEE                          1   \n",
       "756400      758561  2355          WAMME                          1   \n",
       "\n",
       "        losing_team_elder_drakes winning_team_elemental_drakes  \\\n",
       "151                            0                            MF   \n",
       "169                            0                                 \n",
       "171                            0                          WFFF   \n",
       "174                            0                          AFWW   \n",
       "211                            0                                 \n",
       "...                          ...                           ...   \n",
       "756303                         0                          WMAA   \n",
       "756311                         0                          AMFF   \n",
       "756362                         0                                 \n",
       "756380                         1                          AAAA   \n",
       "756400                         0                          WAMM   \n",
       "\n",
       "       losing_team_elemental_drakes soul winning_team_has_soul  \\\n",
       "151                            WFFF    F                 False   \n",
       "169                            WFAA    A                 False   \n",
       "171                               M    F                  True   \n",
       "174                                    W                  True   \n",
       "211                            AWMM    M                 False   \n",
       "...                             ...  ...                   ...   \n",
       "756303                                 A                  True   \n",
       "756311                                 F                  True   \n",
       "756362                         MWAA    A                 False   \n",
       "756380                           FW    A                  True   \n",
       "756400                                 M                  True   \n",
       "\n",
       "        winning_team_first_dragon  ...  win_fire  win_water  win_air  \\\n",
       "151                         False  ...         1          0        0   \n",
       "169                         False  ...         0          0        0   \n",
       "171                         False  ...         3          1        0   \n",
       "174                          True  ...         1          2        1   \n",
       "211                         False  ...         0          0        0   \n",
       "...                           ...  ...       ...        ...      ...   \n",
       "756303                       True  ...         0          1        2   \n",
       "756311                       True  ...         2          0        1   \n",
       "756362                      False  ...         0          0        0   \n",
       "756380                      False  ...         0          0        4   \n",
       "756400                       True  ...         0          1        1   \n",
       "\n",
       "       win_mountain  lose_fire  lose_water  lose_air  lose_mountain  \\\n",
       "151               1          3           1         0              0   \n",
       "169               0          1           1         2              0   \n",
       "171               0          0           0         0              1   \n",
       "174               0          0           0         0              0   \n",
       "211               0          0           1         1              2   \n",
       "...             ...        ...         ...       ...            ...   \n",
       "756303            1          0           0         0              0   \n",
       "756311            1          0           0         0              0   \n",
       "756362            0          0           1         2              1   \n",
       "756380            0          1           1         0              0   \n",
       "756400            2          0           0         0              0   \n",
       "\n",
       "        first_drake  first_drake_min  \n",
       "151               W                6  \n",
       "169               W               10  \n",
       "171               M                7  \n",
       "174               A                6  \n",
       "211               A                6  \n",
       "...             ...              ...  \n",
       "756303            W                6  \n",
       "756311            A                8  \n",
       "756362            M                6  \n",
       "756380            F               15  \n",
       "756400            W               12  \n",
       "\n",
       "[33670 rows x 25 columns]"
      ]
     },
     "execution_count": 36,
     "metadata": {},
     "output_type": "execute_result"
    }
   ],
   "source": [
    "finale"
   ]
  },
  {
   "cell_type": "code",
   "execution_count": 37,
   "metadata": {},
   "outputs": [
    {
     "data": {
      "text/plain": [
       "winning_team_elder_drakes  winning_team_last_dragon\n",
       "0                          False                        4740\n",
       "1                          False                         283\n",
       "                           True                        27072\n",
       "2                          False                          15\n",
       "                           True                         1503\n",
       "3                          True                           53\n",
       "4                          True                            4\n",
       "dtype: int64"
      ]
     },
     "execution_count": 37,
     "metadata": {},
     "output_type": "execute_result"
    }
   ],
   "source": [
    "finale.groupby(['winning_team_elder_drakes','winning_team_last_dragon']).size()"
   ]
  },
  {
   "cell_type": "code",
   "execution_count": 38,
   "metadata": {
    "scrolled": true
   },
   "outputs": [
    {
     "data": {
      "text/plain": [
       "winning_team_last_dragon  winning_team_has_soul\n",
       "False                     False                     1215\n",
       "                          True                      3812\n",
       "                                                      11\n",
       "True                      False                     6717\n",
       "                          True                     21847\n",
       "                                                      68\n",
       "dtype: int64"
      ]
     },
     "execution_count": 38,
     "metadata": {},
     "output_type": "execute_result"
    }
   ],
   "source": [
    "finale.groupby(['winning_team_last_dragon','winning_team_has_soul']).size()"
   ]
  },
  {
   "cell_type": "code",
   "execution_count": 39,
   "metadata": {},
   "outputs": [],
   "source": [
    "finalew = finale[finale['winning_team_last_dragon'] == True]"
   ]
  },
  {
   "cell_type": "code",
   "execution_count": 40,
   "metadata": {
    "scrolled": true
   },
   "outputs": [
    {
     "name": "stderr",
     "output_type": "stream",
     "text": [
      "/opt/anaconda3/lib/python3.7/site-packages/ipykernel_launcher.py:2: SettingWithCopyWarning: \n",
      "A value is trying to be set on a copy of a slice from a DataFrame.\n",
      "Try using .loc[row_indexer,col_indexer] = value instead\n",
      "\n",
      "See the caveats in the documentation: http://pandas.pydata.org/pandas-docs/stable/user_guide/indexing.html#returning-a-view-versus-a-copy\n",
      "  \n"
     ]
    },
    {
     "data": {
      "text/plain": [
       "<matplotlib.lines.Line2D at 0x7fbaeacf5550>"
      ]
     },
     "execution_count": 40,
     "metadata": {},
     "output_type": "execute_result"
    },
    {
     "data": {
      "image/png": "[encoded data removed]",
      "text/plain": [
       "<Figure size 432x288 with 1 Axes>"
      ]
     },
     "metadata": {
      "needs_background": "light"
     },
     "output_type": "display_data"
    }
   ],
   "source": [
    "finalew['last_drake_time']\n",
    "finalew['elderend'] = finalew['time'] - finalew['last_drake_time']\n",
    "xxx = finalew['elderend'].tolist()\n",
    "plt.hist(xxx, bins = 30)\n",
    "plt.axvline(x=180, color = 'r')"
   ]
  },
  {
   "cell_type": "code",
   "execution_count": 41,
   "metadata": {},
   "outputs": [
    {
     "data": {
      "text/plain": [
       "count    28632.000000\n",
       "mean       128.944712\n",
       "std         91.844933\n",
       "min          4.000000\n",
       "25%         60.000000\n",
       "50%        106.000000\n",
       "75%        168.000000\n",
       "max        757.000000\n",
       "Name: elderend, dtype: float64"
      ]
     },
     "execution_count": 41,
     "metadata": {},
     "output_type": "execute_result"
    }
   ],
   "source": [
    "finalew['elderend'].describe()"
   ]
  },
  {
   "cell_type": "code",
   "execution_count": 42,
   "metadata": {},
   "outputs": [],
   "source": [
    "final['elder_total'] = final['winning_team_elder_drakes'] + final['losing_team_elder_drakes']\n",
    "final['elder_true'] = final['elder_total'].apply(lambda x : x != 0)"
   ]
  },
  {
   "cell_type": "code",
   "execution_count": 43,
   "metadata": {},
   "outputs": [],
   "source": [
    "finallow = final[(final['tier'] == 'IRON') | (final['tier'] == 'BRONZE') | (final['tier'] == 'SILVER') | (final['tier'] == 'GOLD')] \n",
    "finalhigh = final[(final['tier'] == 'PLATINUM') | (final['tier'] == 'DIAMOND') | (final['tier'] == 'MASTER') | (final['tier'] == 'GRANDMASTER') | (final['tier'] == 'CHALLENGER')] "
   ]
  },
  {
   "cell_type": "code",
   "execution_count": 44,
   "metadata": {},
   "outputs": [
    {
     "data": {
      "text/plain": [
       "elder_true\n",
       "False    199573\n",
       "True       6925\n",
       "dtype: int64"
      ]
     },
     "execution_count": 44,
     "metadata": {},
     "output_type": "execute_result"
    }
   ],
   "source": [
    "finalhigh.groupby('elder_true').size()"
   ]
  },
  {
   "cell_type": "code",
   "execution_count": 45,
   "metadata": {},
   "outputs": [
    {
     "data": {
      "text/plain": [
       "elder_true\n",
       "False    523169\n",
       "True      26745\n",
       "dtype: int64"
      ]
     },
     "execution_count": 45,
     "metadata": {},
     "output_type": "execute_result"
    }
   ],
   "source": [
    "finallow.groupby('elder_true').size()"
   ]
  },
  {
   "cell_type": "code",
   "execution_count": 46,
   "metadata": {},
   "outputs": [
    {
     "data": {
      "text/plain": [
       "soul\n",
       "A           48158\n",
       "F           45117\n",
       "M           46891\n",
       "No Soul    569955\n",
       "W           46291\n",
       "dtype: int64"
      ]
     },
     "execution_count": 46,
     "metadata": {},
     "output_type": "execute_result"
    }
   ],
   "source": [
    "final.groupby('soul').size()"
   ]
  },
  {
   "cell_type": "code",
   "execution_count": 47,
   "metadata": {},
   "outputs": [
    {
     "data": {
      "text/plain": [
       "0.246501906368487"
      ]
     },
     "execution_count": 47,
     "metadata": {},
     "output_type": "execute_result"
    }
   ],
   "source": [
    "1 - 569955/sum(final.groupby('soul').size().tolist())"
   ]
  }
 ],
 "metadata": {
  "kernelspec": {
   "display_name": "Python 3",
   "language": "python",
   "name": "python3"
  },
  "language_info": {
   "codemirror_mode": {
    "name": "ipython",
    "version": 3
   },
   "file_extension": ".py",
   "mimetype": "text/x-python",
   "name": "python",
   "nbconvert_exporter": "python",
   "pygments_lexer": "ipython3",
   "version": "3.7.4"
  }
 },
 "nbformat": 4,
 "nbformat_minor": 2
}
